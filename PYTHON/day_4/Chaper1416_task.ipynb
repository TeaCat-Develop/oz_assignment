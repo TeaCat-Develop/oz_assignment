{
 "cells": [
  {
   "cell_type": "markdown",
   "metadata": {
    "id": "BX7SgOeWu86I"
   },
   "source": [
    "안녕하세요. 수강생 여러분~! Chapter14 ~ 16 수업은 잘 들으셨나요?\n",
    "\n",
    "Chapter14 ~ 16의 수업 내용을 바탕으로 아래 문제를 풀어주시면 됩니다.\n",
    "\n",
    "<br>\n",
    "\n",
    "\n",
    "[**답변 입력 방법**]\n",
    "\n",
    "문제 아래에 있는 코드 입력창에 정답코드를 작성하신 후  __▷ 버튼을 클릭해 코드를 실행__ 해보세요<br>"
   ]
  },
  {
   "cell_type": "markdown",
   "metadata": {},
   "source": [
    "---"
   ]
  },
  {
   "cell_type": "markdown",
   "metadata": {
    "id": "7kQJMRuFu-6s"
   },
   "source": [
    "__[문제1]__\n",
    "\n",
    "주어진 정수 x와 자연수 n을 이용해, x부터 시작해 x씩 증가하는 숫자를 n개 지니는 리스트를 출력해주세요   \n",
    "<br>\n",
    "\n",
    "x = 2, n =5"
   ]
  },
  {
   "cell_type": "code",
   "execution_count": 77,
   "metadata": {
    "id": "juUF2KYbu0DX"
   },
   "outputs": [
    {
     "name": "stdout",
     "output_type": "stream",
     "text": [
      "\n",
      " 첫 번째 방법\n",
      "2\n",
      "4\n",
      "6\n",
      "8\n",
      "10\n",
      "\n",
      " 두 번째 방법\n",
      "2\n",
      "4\n",
      "6\n",
      "8\n",
      "10\n"
     ]
    }
   ],
   "source": [
    "x=2; n=int(input('5를 넣어주세요.')) \n",
    "# >>>>>>> n=input()을 사용하는 경우 오류 발생\n",
    "# 원인: input()은 문자열(str)을 반환하기 때문!\n",
    "# 해결: int(input())을 사용해 정수로 형변환해야함.\n",
    "\n",
    "print(f'\\n','첫 번째 방법')\n",
    "# for문 활용하기\n",
    "for i in range(n): # range(n)=range(0,n)\n",
    "     numbers= x+x*i\n",
    "     print(numbers)\n",
    "\n",
    "print(f'\\n','두 번째 방법')\n",
    "# while문 활용하기\n",
    "i=0\n",
    "while i<n:\n",
    "    print(x+x*i)\n",
    "    i+=1"
   ]
  },
  {
   "cell_type": "markdown",
   "metadata": {},
   "source": [
    "---"
   ]
  },
  {
   "cell_type": "markdown",
   "metadata": {
    "id": "4BPXMLXUvBVL"
   },
   "source": [
    "__[문제2]__\n",
    "\n",
    "전화번호가 문자열 phone_number로 주어졌을 때, 전화번호의 뒷 4자리를 *으로 가린 문자열이 출력되도록 코드를 작성해주세요\n",
    "\n",
    "phone_number = \"01012347890\"  \n",
    "<br>\n",
    "\n",
    "출력 예) \"0101234****\""
   ]
  },
  {
   "cell_type": "code",
   "execution_count": null,
   "metadata": {
    "id": "P0fY7CYUvC_j"
   },
   "outputs": [
    {
     "name": "stdout",
     "output_type": "stream",
     "text": [
      "2134123****\n"
     ]
    }
   ],
   "source": [
    "phone_number = input(\"phone number: 000-0000-0000 or 00000000000\")\n",
    "# phone_number = \"010-1234-7890\"\n",
    "secret_number = phone_number[0:-4] + '*'*4\n",
    "print(secret_number)\n",
    "\n",
    "# slice 개념 활용.\n",
    "# 여유가 되면 띄어쓰기+숫자 형태로 Input받고 sep='-' or 인덱스 활용하여 '-' 끼워넣는 방법도 생각해보기"
   ]
  },
  {
   "cell_type": "markdown",
   "metadata": {},
   "source": [
    "---"
   ]
  },
  {
   "cell_type": "markdown",
   "metadata": {
    "id": "uUdOU9cFvDsq"
   },
   "source": [
    "__[문제3]__\n",
    "\n",
    "숫자를 건넬 때 일부 자릿수를 영단어로 바꾼 카드를 건네주면 프로도는 원래 숫자를 찾는 게임입니다.\n",
    "\n",
    "다음은 숫자의 일부 자릿수를 영단어로 바꾸는 예시입니다.\n",
    "\n",
    "1478 → \"one4seveneight\"  \n",
    "234567 → \"23four5six7\"  \n",
    "10203 → \"1zerotwozero3\"    \n",
    "\n",
    "이렇게 숫자의 일부 자릿수가 영단어로 바뀌어졌거나,   \n",
    "혹은 바뀌지 않고 그대로인 문자열 s가 주어졌을때\n",
    "s가 의미하는 원래 숫자를 출력하도록 코드를 작성해주세요\n",
    "\n",
    "s = \"77three4one\n",
    "\n",
    "---\n",
    "참고로 각 숫자에 대응되는 영단어는 다음 표와 같습니다.\n",
    "\n",
    "숫자\t영단어  \n",
    "0\tzero  \n",
    "1\tone  \n",
    "2\ttwo  \n",
    "3\tthree  \n",
    "4\tfour  \n",
    "5\tfive  \n",
    "6\tsix  \n",
    "7\tseven  \n",
    "8\teight  \n",
    "9\tnine  "
   ]
  },
  {
   "cell_type": "code",
   "execution_count": 79,
   "metadata": {
    "id": "2NmqRFgDvFtz"
   },
   "outputs": [
    {
     "name": "stdout",
     "output_type": "stream",
     "text": [
      "01\n"
     ]
    }
   ],
   "source": [
    "number = 0, 1, 2, 3, 4, 5, 6, 7, 8, 9\n",
    "english = 'zero', 'one', 'two', 'three', 'four', 'five', 'six', 'seven', 'eight', 'nine'\n",
    "\n",
    "# tuple에서 dict로 변환하기\n",
    "num_and_eng=dict(zip(number,english)) #zip(key,value)\n",
    "\n",
    "# 예시 넣기\n",
    "s=input('s(num+eng card)')\n",
    "# 1478 → \"one4seveneight\"  \n",
    "# 234567 → \"23four5six7\"  \n",
    "# 10203 → \"1zerotwozero3\"  \n",
    "\n",
    "# for, if문을 사용해 영어(값)를 숫자(키)로 바꾸기\n",
    "\n",
    "#1\n",
    "for number, english in num_and_eng.items():\n",
    "    if english in s:\n",
    "        s = s.replace(english,str(number))\n",
    "        # >>>>>>>replace() argument 2 must be str, not int\n",
    "        # replace 함수에는 문자열만 사용가능\n",
    "        # key를 str으로 형변환\n",
    "print(s)\n",
    "\n",
    "# replace 함수 구글링으로 이용함."
   ]
  },
  {
   "cell_type": "markdown",
   "metadata": {},
   "source": [
    "---"
   ]
  },
  {
   "cell_type": "markdown",
   "metadata": {
    "id": "J0Tha6AdvGL3"
   },
   "source": [
    "__[문제4]__\n",
    "\n",
    "행렬의 덧셈은 행과 열의 크기가 같은 두 행렬의 같은 행, 같은 열의 값을 서로 더한 결과가 됩니다. \n",
    "\n",
    " 행렬 arr1과 arr2가 주어졌을 때, 행렬 덧셈의 결과를 출력하는 코드를 작성해주세요(result와 같은 결과가 출력되도록 작성)\n",
    "\n",
    "arr1 = [[1,2],[2,3]]\n",
    "\n",
    "arr2 = [[3,4],[5,6]]\n",
    "\n",
    "result = [[4,6],[7,9]]"
   ]
  },
  {
   "cell_type": "code",
   "execution_count": 78,
   "metadata": {
    "id": "ujiXrEhJvIV0"
   },
   "outputs": [
    {
     "name": "stdout",
     "output_type": "stream",
     "text": [
      "[[4, 6], [7, 9]]\n"
     ]
    }
   ],
   "source": [
    "arr1 =[[1,2],[2,3]]\n",
    "arr2 =[[3,4],[5,6]]\n",
    "# >>>>>>> result =[[1,2]-[3,4],[2,3]+[5,6]] => list-list는 성립하지 않음...\n",
    "result = [] #초기화\n",
    "\n",
    "for i in range(len(arr1)):  # 행 기준 반복\n",
    "    row = []\n",
    "    for j in range(len(arr1[0])):  # 열 기준 반복\n",
    "        row.append(arr1[i][j] + arr2[i][j])\n",
    "    result.append(row)\n",
    "\n",
    "print(result)\n",
    "# 반복문 안에서(들여쓰기 상태로) print하는 경우 계산 과정이 전부 출력됨.\n",
    "# # 최종 결과만 확인하고싶다면 반복문 밖에서 print 실행하기.\n",
    "\n",
    "# 행렬의 덧셈 자체 개념 부족으로 구글링.\n",
    "# gpt 사용... for, in, range, append 복습 필요.\n",
    "# 수학적으로는 이해했으나 코드 풀이가 애매함. 다시 확인해보기."
   ]
  },
  {
   "cell_type": "markdown",
   "metadata": {},
   "source": [
    "---"
   ]
  },
  {
   "cell_type": "markdown",
   "metadata": {
    "id": "eLdrWVkavJEN"
   },
   "source": [
    "__[문제5]__\n",
    "\n",
    "양의 정수 x가 하샤드 수이려면 x의 자릿수의 합으로 x가 나누어져야 합니다.   \n",
    "예를 들어 18의 자릿수 합은 1+8=9이고, 18은 9로 나누어 떨어지므로 18은 하샤드 수입니다.   \n",
    "주어진 x를 이용해 x가 하샤드 수인지 아닌지 검사하는 코드를 작성해주세요\n",
    "\n",
    "x = 17\n",
    "\n",
    "----\n",
    "\n",
    "입출력 예시\n",
    "x\t결과값  \n",
    "10\ttrue  \n",
    "12\ttrue  \n",
    "11\tfalse  \n",
    "13\tfalse  "
   ]
  },
  {
   "cell_type": "code",
   "execution_count": null,
   "metadata": {
    "id": "EULD-IOrvKmG"
   },
   "outputs": [
    {
     "name": "stdout",
     "output_type": "stream",
     "text": [
      "긍정문(==)으로 검증하기\n",
      "17 False\n",
      "\n",
      "부정문(!=)으로 검증하기\n",
      "17 False\n"
     ]
    }
   ],
   "source": [
    "# Q. 하샤드 수\n",
    "# A. 주어진 진법에서 그 수의 각 자릿수 숫자의 합으로 나누어떨어지는 자연수\n",
    "\n",
    "x=17\n",
    "# 각 자릿수의 합 구하기\n",
    "sumx = 0 #초기화\n",
    "for num in str(x): # 정수 x를 문자열로 반환하여 한자리씩 num에 넣어 반복.\n",
    "    sumx += int(num) # num을 도로 정수로 반환하여 더한 다음 sumx에 할당 => sumx(0) + num(1,7) => 0+1+7 => sumx\n",
    "    \n",
    "# if x%(의 각 자릿수의 합)==0 : =>True인 경우 하샤드 수\n",
    "\n",
    "print('긍정문(==)으로 검증하기')\n",
    "if x%(sumx)==0:\n",
    "    print(f'{x} True')\n",
    "else:\n",
    "    print(f'{x} False')\n",
    "\n",
    "print()\n",
    "\n",
    "print('부정문(!=)으로 검증하기')\n",
    "if x%(sumx)!=0:\n",
    "    print(f'{x} False')\n",
    "else:\n",
    "    print(f'{x} True')\n",
    "\n",
    "# 하샤드 수의 정의를 몰라 구글링.\n",
    "# 정의를 보고 검증식 자체는 세울 수 있으나, 각 자릿수의 합 구하기 (for문) 부분이 부족한듯...\n",
    "# +=, -= 등 복합할당연산자 응용이 바로 나오지 않음. 읽고 해석은 바로 가능. (좌측에서 오른쪽으로 가며 계산(+,-) 한 다음 결과값을 도로 왼쪽으로 돌아가며(=) 할당한다~는 느낌)"
   ]
  },
  {
   "cell_type": "markdown",
   "metadata": {},
   "source": [
    "---"
   ]
  },
  {
   "cell_type": "markdown",
   "metadata": {
    "id": "GeS6hZhivLMZ"
   },
   "source": [
    "__[문제6]__\n",
    "\n",
    "String형 배열 seoul의 element중 \"Kim\"의 인덱스 x를 찾아, \"김서방은 x에 있다\"는 String을 출력하는 코드를 작성해주세요.   \n",
    "\n",
    "seoul에 \"Kim\"은 오직 한 번만 나타나며 잘못된 값이 입력되는 경우는 없습니다.\n",
    "\n",
    "seoul = [\"Jane\", \"Kim\"]\n",
    "\n",
    "<br>\n",
    "출력 예) \"김서방은 1에 있다\""
   ]
  },
  {
   "cell_type": "code",
   "execution_count": 89,
   "metadata": {
    "id": "e4LXat3BvRRg"
   },
   "outputs": [
    {
     "name": "stdout",
     "output_type": "stream",
     "text": [
      "김서방은1에 있다.\n"
     ]
    }
   ],
   "source": [
    "seoul = [\"Jane\",\"Kim\"]\n",
    "#x = seoul.index(\"Jane\") => 0\n",
    "x = seoul.index(\"Kim\") # => 1\n",
    "\n",
    "print(f'김서방은{x}에 있다.')"
   ]
  },
  {
   "cell_type": "markdown",
   "metadata": {},
   "source": [
    "---"
   ]
  },
  {
   "cell_type": "markdown",
   "metadata": {
    "id": "iZjKl-ZqvOkm"
   },
   "source": [
    "__[문제7]__\n",
    "\n",
    "0부터 9까지의 숫자 중 일부가 들어있는 정수 배열 numbers가 주어집니다.   \n",
    "numbers에서 찾을 수 없는 0부터 9까지의 숫자를 모두 찾아 더한 수를 출력해주세요\n",
    "\n",
    "numbers = [5,8,1,0,6,9]"
   ]
  },
  {
   "cell_type": "code",
   "execution_count": 96,
   "metadata": {
    "id": "598DAkIHvQav"
   },
   "outputs": [
    {
     "name": "stdout",
     "output_type": "stream",
     "text": [
      "{2, 3, 4, 7}\n"
     ]
    }
   ],
   "source": [
    "numbers = [5,8,1,0,6,9] # numbers에 list 할당\n",
    "\n",
    "zero_to_nine = set(range(10)) \n",
    "# 0~9 범위 (index값은 +1해서 10까지) 할당\n",
    "# 순서가 없고 중복이 없어야하므로 list가 아니라 set\n",
    "etc_nums = zero_to_nine - set(numbers)\n",
    "# set는 set와 연산가능. list와는 불가.\n",
    "# 따라서 set()으로 형변환 필요\n",
    "\n",
    "print(etc_nums)"
   ]
  }
 ],
 "metadata": {
  "colab": {
   "authorship_tag": "ABX9TyMLQjyUmELFyKkx1AyovOFZ",
   "provenance": []
  },
  "kernelspec": {
   "display_name": "Python 3",
   "name": "python3"
  },
  "language_info": {
   "codemirror_mode": {
    "name": "ipython",
    "version": 3
   },
   "file_extension": ".py",
   "mimetype": "text/x-python",
   "name": "python",
   "nbconvert_exporter": "python",
   "pygments_lexer": "ipython3",
   "version": "3.9.6"
  }
 },
 "nbformat": 4,
 "nbformat_minor": 0
}
