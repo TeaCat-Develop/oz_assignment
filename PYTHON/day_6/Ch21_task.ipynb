{
 "cells": [
  {
   "cell_type": "markdown",
   "metadata": {},
   "source": [
    "안녕하세요. 수강생 여러분~! Chapter21 ~ 32 수업은 잘 들으셨나요?\n",
    "\n",
    "Chapter21 ~ 32의 수업 내용을 바탕으로 아래 문제를 풀어주시면 됩니다.\n",
    "\n",
    "\n",
    "<br>\n",
    "\n",
    "\n",
    "[**답변 입력 방법**]\n",
    "\n",
    "문제 아래에 있는 코드 입력창에 정답코드를 작성하신 후  __▷ 버튼을 클릭해 코드를 실행__ 해보세요<br>"
   ]
  },
  {
   "cell_type": "markdown",
   "metadata": {},
   "source": [
    "---"
   ]
  },
  {
   "cell_type": "markdown",
   "metadata": {},
   "source": [
    "[문제 1]\n",
    "사용자로부터 이름과 나이를 입력 받아, \"안녕하세요, [이름]님! 당신은 [나이]살입니다.\"라고 출력하는 함수 greet_user를 작성하세요."
   ]
  },
  {
   "cell_type": "code",
   "execution_count": 44,
   "metadata": {},
   "outputs": [
    {
     "name": "stdout",
     "output_type": "stream",
     "text": [
      "안녕하세요, name님! 당신은 age살입니다.\n"
     ]
    }
   ],
   "source": [
    "def greet_user(이름,나이):\n",
    "    print(f'안녕하세요, {이름}님! 당신은 {나이}살입니다.')\n",
    "\n",
    "name = input('이름')\n",
    "age = input('나이')\n",
    "greet_user(name,age)"
   ]
  },
  {
   "cell_type": "markdown",
   "metadata": {},
   "source": [
    "---"
   ]
  },
  {
   "cell_type": "markdown",
   "metadata": {},
   "source": [
    "[문제 2] 여러 숫자를 입력받아 그 합계를 반환하는 함수 sum_numbers를 작성하세요. 이 때, 가변 매개변수를 사용하세요."
   ]
  },
  {
   "cell_type": "code",
   "execution_count": 45,
   "metadata": {},
   "outputs": [
    {
     "name": "stdout",
     "output_type": "stream",
     "text": [
      "8\n"
     ]
    }
   ],
   "source": [
    "# del sum\n",
    "    # TypeError: <lambda>() missing 1 required positional argument: 'y'\n",
    "    # 내장함수 sum이 덮어씌워진 것이 원인이라 함. 사용하기 위해서는 del로 내장함수 복원 필요... \n",
    "    # 전역 영역에서 실행해야한다함\n",
    "    # del을 넣으니 import해도 오류가 남. import만 해도 될듯...\n",
    "import builtins\n",
    "    # 내장함수가 꼬여서 삭제된듯함... import로 불러오기\n",
    "def sum_numbers(*numbers):\n",
    "    return sum(numbers)\n",
    "inputs=input('숫자 숫자 숫자')\n",
    "num_list = list(map(int, inputs.split()))\n",
    "\n",
    "print(sum_numbers(*num_list))"
   ]
  },
  {
   "cell_type": "markdown",
   "metadata": {},
   "source": [
    "---"
   ]
  },
  {
   "cell_type": "markdown",
   "metadata": {},
   "source": [
    "[문제 3] 사용자의 이름을 출력하는 함수 print_name을 작성하세요. 만약 이름이 주어지지 않았다면, 기본값으로 \"익명\"을 사용하세요."
   ]
  },
  {
   "cell_type": "code",
   "execution_count": 46,
   "metadata": {},
   "outputs": [
    {
     "name": "stdout",
     "output_type": "stream",
     "text": [
      "익명\n"
     ]
    }
   ],
   "source": [
    "def print_name(name='익명'): # 기본매개변수\n",
    "    print(name)\n",
    "\n",
    "print_name()"
   ]
  },
  {
   "cell_type": "markdown",
   "metadata": {},
   "source": [
    "---"
   ]
  },
  {
   "cell_type": "markdown",
   "metadata": {},
   "source": [
    "[문제 4] 사용자의 이름, 나이, 성별을 출력하는 함수 print_info를 작성하세요. 이 때, 모든 매개변수는 키워드 매개변수로만 받도록 하세요."
   ]
  },
  {
   "cell_type": "code",
   "execution_count": 47,
   "metadata": {},
   "outputs": [
    {
     "name": "stdout",
     "output_type": "stream",
     "text": [
      "이름:name,나이:age,성별:sex\n"
     ]
    }
   ],
   "source": [
    "def print_info(name,age,sex):\n",
    "    print(f'이름:{name},나이:{age},성별:{sex}')\n",
    "\n",
    "a = input('name')\n",
    "b = input ('age')\n",
    "c = input ('sex')\n",
    "print_info(name=a,age=b,sex=c) #키워드매개변수"
   ]
  },
  {
   "cell_type": "markdown",
   "metadata": {},
   "source": [
    "---"
   ]
  },
  {
   "cell_type": "markdown",
   "metadata": {},
   "source": [
    "[문제 5] 두 개의 정수를 받아 합을 반환하는 함수 add를 작성하세요. 매개변수와 반환값에 타입 어노테이션을 추가하세요."
   ]
  },
  {
   "cell_type": "code",
   "execution_count": 48,
   "metadata": {},
   "outputs": [
    {
     "name": "stdout",
     "output_type": "stream",
     "text": [
      "5\n"
     ]
    }
   ],
   "source": [
    "# def add(a,b):\n",
    "def add(a:int,b:int) -> int: # 타입 어노테이션\n",
    "    return a + b\n",
    "\n",
    "a = int(input('number'))\n",
    "b = int(input('number'))\n",
    "print(add(a,b))"
   ]
  },
  {
   "cell_type": "markdown",
   "metadata": {},
   "source": [
    "---"
   ]
  },
  {
   "cell_type": "markdown",
   "metadata": {},
   "source": [
    "[문제 6] 0부터 시작하여 n까지의 숫자 중에서 홀수만 생성하는 제너레이터 odd_numbers를 작성하세요."
   ]
  },
  {
   "cell_type": "code",
   "execution_count": 54,
   "metadata": {},
   "outputs": [
    {
     "name": "stdout",
     "output_type": "stream",
     "text": [
      "[1, 3, 5, 7, 9, 11, 13, 15, 17, 19, 21, 23, 25, 27, 29, 31, 33, 35, 37, 39, 41, 43, 45, 47, 49, 51, 53, 55, 57, 59, 61, 63, 65, 67, 69, 71, 73, 75, 77, 79, 81, 83, 85, 87, 89, 91, 93, 95, 97, 99, 101, 103, 105, 107, 109, 111, 113, 115, 117, 119, 121, 123]\n"
     ]
    }
   ],
   "source": [
    "# for i in range(n+1)\n",
    "\n",
    "def odd_numbers(n):\n",
    "    for i in range(n + 1): # n이 아니라 n+1 주의\n",
    "        if i % 2 == 1: # i가 홀수\n",
    "            yield i #return 대신 사용\n",
    "\n",
    "print(list(odd_numbers(int(input('n')))))"
   ]
  },
  {
   "cell_type": "markdown",
   "metadata": {},
   "source": [
    "---"
   ]
  },
  {
   "cell_type": "markdown",
   "metadata": {},
   "source": [
    "[문제 7] 두 숫자를 더하는 람다 함수를 작성하고, 이를 변수에 할당한 후 사용하세요."
   ]
  },
  {
   "cell_type": "code",
   "execution_count": 55,
   "metadata": {},
   "outputs": [
    {
     "name": "stdout",
     "output_type": "stream",
     "text": [
      "6\n"
     ]
    }
   ],
   "source": [
    "sum = lambda x, y: x + y # 람다함수\n",
    "result = sum(int(input('x')),int(input('y'))) # x,y값 지정하여 결과값 result에 할당\n",
    "print(result)"
   ]
  },
  {
   "cell_type": "markdown",
   "metadata": {},
   "source": [
    "---"
   ]
  },
  {
   "cell_type": "markdown",
   "metadata": {},
   "source": [
    "[문제 8] 사용자로부터 3개의 숫자를 입력받아, 이를 튜플로 만든 후 최소값과 최대값을 출력하는 함수 min_max를 작성하세요."
   ]
  },
  {
   "cell_type": "code",
   "execution_count": 56,
   "metadata": {},
   "outputs": [
    {
     "name": "stdout",
     "output_type": "stream",
     "text": [
      "tuple: (124, 124, 5)\n",
      "min: 5\n",
      "max: 124\n"
     ]
    }
   ],
   "source": [
    "def min_max():\n",
    "    nums = tuple(int(input(f\"숫자를 입력하세요: \")) for i in range(3)) # 3번 반복으로 입력받음>정수변환. tuple로 넣음\n",
    "    \n",
    "    print(\"tuple:\", nums)\n",
    "    print(\"min:\", min(nums))\n",
    "    print(\"max:\", max(nums))\n",
    "\n",
    "min_max()\n"
   ]
  },
  {
   "cell_type": "markdown",
   "metadata": {},
   "source": [
    "---"
   ]
  },
  {
   "cell_type": "markdown",
   "metadata": {},
   "source": [
    "[문제 9] 주어진 숫자가 짝수인지 확인하는 함수 is_even을 작성하세요. 짝수라면 True를, 아니라면 False를 반환하세요. 함수 내에서 조기 리턴을 활용하세요."
   ]
  },
  {
   "cell_type": "code",
   "execution_count": null,
   "metadata": {},
   "outputs": [
    {
     "name": "stdout",
     "output_type": "stream",
     "text": [
      "True\n"
     ]
    }
   ],
   "source": [
    "def is_even():\n",
    "    i = int(input('숫자'))\n",
    "    if i%2 == 0 : # =은 할당, ==이 같다\n",
    "        return True\n",
    "    else:\n",
    "        return False\n",
    "    \n",
    "print(is_even())"
   ]
  },
  {
   "cell_type": "markdown",
   "metadata": {},
   "source": [
    "---"
   ]
  },
  {
   "cell_type": "markdown",
   "metadata": {},
   "source": [
    "[문제 10] 팩토리얼을 계산하는 재귀 함수 factorial을 작성하세요."
   ]
  },
  {
   "cell_type": "code",
   "execution_count": 59,
   "metadata": {},
   "outputs": [
    {
     "name": "stdout",
     "output_type": "stream",
     "text": [
      "24\n"
     ]
    }
   ],
   "source": [
    "# 팩토리얼 = n! = n(n-1)(n-2)(n-3) ... *1\n",
    "\n",
    "def factorial(n: int) -> int:\n",
    "    if n == 0 or n == 1:\n",
    "        return 1\n",
    "    return n * factorial(n - 1)\n",
    "\n",
    "n = int(input('n'))\n",
    "print(factorial(n))\n"
   ]
  },
  {
   "cell_type": "markdown",
   "metadata": {},
   "source": [
    "---"
   ]
  },
  {
   "cell_type": "markdown",
   "metadata": {},
   "source": [
    "[문제 11] 문자열 리스트를 받아, 각 문자열의 길이를 출력하는 함수 print_lengths를 작성하세요."
   ]
  },
  {
   "cell_type": "code",
   "execution_count": null,
   "metadata": {},
   "outputs": [
    {
     "name": "stdout",
     "output_type": "stream",
     "text": [
      "\"'\"의 길이: 1\n",
      "\"ㅁ\"의 길이: 1\n",
      "\"ㄷ\"의 길이: 1\n",
      "\"ㄹ\"의 길이: 1\n",
      "\"'\"의 길이: 1\n",
      "\",\"의 길이: 1\n",
      "\"'\"의 길이: 1\n",
      "\"1\"의 길이: 1\n",
      "\"2\"의 길이: 1\n",
      "\"3\"의 길이: 1\n",
      "\"ㄹ\"의 길이: 1\n",
      "\"'\"의 길이: 1\n"
     ]
    }
   ],
   "source": [
    "# 나중에 다시 해보기...\n",
    "#한글자씩 잘려나오는 원인?\n",
    "\n",
    "def print_lengths(strings: list[str]) -> None:\n",
    "    for s in strings:\n",
    "        print(f'\"{s}\"의 길이: {len(s)}')\n",
    "\n",
    "print_lengths(input('단어를 넣어주세요'))"
   ]
  },
  {
   "cell_type": "markdown",
   "metadata": {},
   "source": [
    "[문제 12] 두 문자열을 받아서 긴 문자열을 반환하는 함수 longer_string을 작성하세요. 만약 두 문자열의 길이가 같다면, 첫 번째 문자열을 반환하세요."
   ]
  },
  {
   "cell_type": "code",
   "execution_count": null,
   "metadata": {},
   "outputs": [
    {
     "name": "stdout",
     "output_type": "stream",
     "text": [
      "1234\n"
     ]
    }
   ],
   "source": [
    "def longer_string(s1: str, s2: str) -> str:\n",
    "    if len(s1) >= len(s2): #길이비교\n",
    "        return s1\n",
    "    else:\n",
    "        return s2\n",
    "\n",
    "s1=input()\n",
    "s2=input()\n",
    "print(longer_string(s1,s2))"
   ]
  }
 ],
 "metadata": {
  "kernelspec": {
   "display_name": "Python 3",
   "language": "python",
   "name": "python3"
  },
  "language_info": {
   "codemirror_mode": {
    "name": "ipython",
    "version": 3
   },
   "file_extension": ".py",
   "mimetype": "text/x-python",
   "name": "python",
   "nbconvert_exporter": "python",
   "pygments_lexer": "ipython3",
   "version": "3.9.6"
  }
 },
 "nbformat": 4,
 "nbformat_minor": 2
}
