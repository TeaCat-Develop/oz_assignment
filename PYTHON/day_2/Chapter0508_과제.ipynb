{
 "cells": [
  {
   "cell_type": "markdown",
   "metadata": {
    "id": "WXEwMsfUct7U"
   },
   "source": [
    "안녕하세요.<br><br>\n",
    "수강생 여러분~! Chapter05 ~ 08 수업은 잘 들으셨나요?\n",
    "\n",
    "Chapter05 ~ 08의 수업 내용을 바탕으로 아래 문제를 풀어주시면 됩니다.\n",
    "\n",
    "<br>\n",
    "\n",
    "\n",
    "[**답변 입력 방법**]\n",
    "\n",
    "문제 아래에 있는 코드 입력창에 정답코드를 작성하신 후  __▷ 버튼을 클릭해 코드를 실행__ 해보세요<br>"
   ]
  },
  {
   "cell_type": "markdown",
   "metadata": {
    "id": "qoyC9wF-3hvs"
   },
   "source": [
    "-----"
   ]
  },
  {
   "cell_type": "markdown",
   "metadata": {},
   "source": [
    "## 모험가들의 레벨업 도전\n",
    "\n",
    "### [배경 이야기]\n",
    "\n",
    "당신은 마법사, 전사, 도적, 힐러 네 명의 모험가를 이끄는 리더입니다. \n",
    "\n",
    "각 캐릭터는 힘, 민첩, 지능, 체력이라는 능력치를 가지고 있습니다. 이 능력치들을 이용해 다양한 도전을 해결하고 사냥을 통해 경험치를 얻어 레벨업을 해야 합니다.\n",
    "\n",
    "<br>\n",
    "\n",
    "### [동료 캐릭터와 능력치 정보]\n",
    "\n",
    "마법사: 힘(10), 민첩(20), 지능(80), 체력(50)\n",
    "\n",
    "전사: 힘(80), 민첩(30), 지능(20), 체력(100)\n",
    "\n",
    "도적: 힘(40), 민첩(80), 지능(30), 체력(60)\n",
    "\n",
    "힐러: 힘(20), 민첩(40), 지능(70), 체력(70)\n",
    "\n",
    "<br>\n",
    "\n",
    "* 변수명을 영어로 변경해서 풀어보세요 !"
   ]
  },
  {
   "cell_type": "markdown",
   "metadata": {},
   "source": [
    "<br>\n",
    "\n",
    "__[문제 1: 첫 번째 사냥]__\n",
    "\n",
    "마법사는 몬스터를 사냥하기 위해 마법을 사용합니다. \n",
    "\n",
    "마법을 사용하려면 지능이 50 이상이어야 합니다. \n",
    "\n",
    "마법사의 지능이 50 이상인지 확인하세요."
   ]
  },
  {
   "cell_type": "code",
   "metadata": {
    "ExecuteTime": {
     "end_time": "2025-07-23T12:15:52.706070Z",
     "start_time": "2025-07-23T12:15:33.645535Z"
    }
   },
   "source": [
    "#캐릭터별 능력치 정보 (전체 문제풀이에 사용하기 위해 변수로 미리 할당!)\n",
    "\n",
    "# 마법사\n",
    "mage_pow = 10; mage_agi = 20; mage_int = 80; mage_hp = 50\n",
    "# 전사\n",
    "war_pow = 80; war_agi = 30; war_int = 20; war_hp = 100\n",
    "# 도적\n",
    "thief_pow = 40; thief_agi = 80; thief_int = 30; thief_hp = 60\n",
    "# 힐러\n",
    "heal_pow = 20; heal_agi = 40; heal_int = 70; heal_hp = 70\n",
    "\n",
    "magic_available = mage_int >= 50\n",
    "print(magic_available) \n",
    "\n",
    "#type(magic_available) => 타입 확인\n",
    "#bool"
   ],
   "outputs": [
    {
     "ename": "KeyboardInterrupt",
     "evalue": "",
     "output_type": "error",
     "traceback": [
      "\u001B[0;31m---------------------------------------------------------------------------\u001B[0m",
      "\u001B[0;31mKeyboardInterrupt\u001B[0m                         Traceback (most recent call last)",
      "Cell \u001B[0;32mIn[10], line 4\u001B[0m\n\u001B[1;32m      1\u001B[0m \u001B[38;5;66;03m#캐릭터별 능력치 정보 (전체 문제풀이에 사용하기 위해 변수로 미리 할당!)\u001B[39;00m\n\u001B[1;32m      2\u001B[0m \n\u001B[1;32m      3\u001B[0m \u001B[38;5;66;03m# 마법사\u001B[39;00m\n\u001B[0;32m----> 4\u001B[0m mage_pow \u001B[38;5;241m=\u001B[39m \u001B[38;5;241m10\u001B[39m; mage_agi \u001B[38;5;241m=\u001B[39m \u001B[38;5;241m20\u001B[39m; mage_int \u001B[38;5;241m=\u001B[39m \u001B[38;5;241m80\u001B[39m; mage_hp \u001B[38;5;241m=\u001B[39m \u001B[38;5;241m50\u001B[39m\n\u001B[1;32m      5\u001B[0m \u001B[38;5;66;03m# 전사\u001B[39;00m\n\u001B[1;32m      6\u001B[0m war_pow \u001B[38;5;241m=\u001B[39m \u001B[38;5;241m80\u001B[39m; war_agi \u001B[38;5;241m=\u001B[39m \u001B[38;5;241m30\u001B[39m; war_int \u001B[38;5;241m=\u001B[39m \u001B[38;5;241m20\u001B[39m; war_hp \u001B[38;5;241m=\u001B[39m \u001B[38;5;241m100\u001B[39m\n",
      "Cell \u001B[0;32mIn[10], line 4\u001B[0m\n\u001B[1;32m      1\u001B[0m \u001B[38;5;66;03m#캐릭터별 능력치 정보 (전체 문제풀이에 사용하기 위해 변수로 미리 할당!)\u001B[39;00m\n\u001B[1;32m      2\u001B[0m \n\u001B[1;32m      3\u001B[0m \u001B[38;5;66;03m# 마법사\u001B[39;00m\n\u001B[0;32m----> 4\u001B[0m mage_pow \u001B[38;5;241m=\u001B[39m \u001B[38;5;241m10\u001B[39m; mage_agi \u001B[38;5;241m=\u001B[39m \u001B[38;5;241m20\u001B[39m; mage_int \u001B[38;5;241m=\u001B[39m \u001B[38;5;241m80\u001B[39m; mage_hp \u001B[38;5;241m=\u001B[39m \u001B[38;5;241m50\u001B[39m\n\u001B[1;32m      5\u001B[0m \u001B[38;5;66;03m# 전사\u001B[39;00m\n\u001B[1;32m      6\u001B[0m war_pow \u001B[38;5;241m=\u001B[39m \u001B[38;5;241m80\u001B[39m; war_agi \u001B[38;5;241m=\u001B[39m \u001B[38;5;241m30\u001B[39m; war_int \u001B[38;5;241m=\u001B[39m \u001B[38;5;241m20\u001B[39m; war_hp \u001B[38;5;241m=\u001B[39m \u001B[38;5;241m100\u001B[39m\n",
      "File \u001B[0;32m/Applications/PyCharm.app/Contents/plugins/python-ce/helpers/pydev/_pydevd_bundle/pydevd_frame.py:755\u001B[0m, in \u001B[0;36mPyDBFrame.trace_dispatch\u001B[0;34m(self, frame, event, arg)\u001B[0m\n\u001B[1;32m    753\u001B[0m \u001B[38;5;66;03m# if thread has a suspend flag, we suspend with a busy wait\u001B[39;00m\n\u001B[1;32m    754\u001B[0m \u001B[38;5;28;01mif\u001B[39;00m info\u001B[38;5;241m.\u001B[39mpydev_state \u001B[38;5;241m==\u001B[39m STATE_SUSPEND:\n\u001B[0;32m--> 755\u001B[0m     \u001B[38;5;28;43mself\u001B[39;49m\u001B[38;5;241;43m.\u001B[39;49m\u001B[43mdo_wait_suspend\u001B[49m\u001B[43m(\u001B[49m\u001B[43mthread\u001B[49m\u001B[43m,\u001B[49m\u001B[43m \u001B[49m\u001B[43mframe\u001B[49m\u001B[43m,\u001B[49m\u001B[43m \u001B[49m\u001B[43mevent\u001B[49m\u001B[43m,\u001B[49m\u001B[43m \u001B[49m\u001B[43marg\u001B[49m\u001B[43m)\u001B[49m\n\u001B[1;32m    756\u001B[0m     \u001B[38;5;66;03m# No need to reset frame.f_trace to keep the same trace function.\u001B[39;00m\n\u001B[1;32m    757\u001B[0m     \u001B[38;5;28;01mreturn\u001B[39;00m \u001B[38;5;28mself\u001B[39m\u001B[38;5;241m.\u001B[39mtrace_dispatch\n",
      "File \u001B[0;32m/Applications/PyCharm.app/Contents/plugins/python-ce/helpers/pydev/_pydevd_bundle/pydevd_frame.py:412\u001B[0m, in \u001B[0;36mPyDBFrame.do_wait_suspend\u001B[0;34m(self, *args, **kwargs)\u001B[0m\n\u001B[1;32m    411\u001B[0m \u001B[38;5;28;01mdef\u001B[39;00m\u001B[38;5;250m \u001B[39m\u001B[38;5;21mdo_wait_suspend\u001B[39m(\u001B[38;5;28mself\u001B[39m, \u001B[38;5;241m*\u001B[39margs, \u001B[38;5;241m*\u001B[39m\u001B[38;5;241m*\u001B[39mkwargs):\n\u001B[0;32m--> 412\u001B[0m     \u001B[38;5;28;43mself\u001B[39;49m\u001B[38;5;241;43m.\u001B[39;49m\u001B[43m_args\u001B[49m\u001B[43m[\u001B[49m\u001B[38;5;241;43m0\u001B[39;49m\u001B[43m]\u001B[49m\u001B[38;5;241;43m.\u001B[39;49m\u001B[43mdo_wait_suspend\u001B[49m\u001B[43m(\u001B[49m\u001B[38;5;241;43m*\u001B[39;49m\u001B[43margs\u001B[49m\u001B[43m,\u001B[49m\u001B[43m \u001B[49m\u001B[38;5;241;43m*\u001B[39;49m\u001B[38;5;241;43m*\u001B[39;49m\u001B[43mkwargs\u001B[49m\u001B[43m)\u001B[49m\n",
      "File \u001B[0;32m/Applications/PyCharm.app/Contents/plugins/python-ce/helpers/pydev/pydevd.py:1220\u001B[0m, in \u001B[0;36mPyDB.do_wait_suspend\u001B[0;34m(self, thread, frame, event, arg, send_suspend_message, is_unhandled_exception)\u001B[0m\n\u001B[1;32m   1217\u001B[0m         from_this_thread\u001B[38;5;241m.\u001B[39mappend(frame_id)\n\u001B[1;32m   1219\u001B[0m \u001B[38;5;28;01mwith\u001B[39;00m \u001B[38;5;28mself\u001B[39m\u001B[38;5;241m.\u001B[39m_threads_suspended_single_notification\u001B[38;5;241m.\u001B[39mnotify_thread_suspended(thread_id, stop_reason):\n\u001B[0;32m-> 1220\u001B[0m     \u001B[38;5;28;43mself\u001B[39;49m\u001B[38;5;241;43m.\u001B[39;49m\u001B[43m_do_wait_suspend\u001B[49m\u001B[43m(\u001B[49m\u001B[43mthread\u001B[49m\u001B[43m,\u001B[49m\u001B[43m \u001B[49m\u001B[43mframe\u001B[49m\u001B[43m,\u001B[49m\u001B[43m \u001B[49m\u001B[43mevent\u001B[49m\u001B[43m,\u001B[49m\u001B[43m \u001B[49m\u001B[43marg\u001B[49m\u001B[43m,\u001B[49m\u001B[43m \u001B[49m\u001B[43msuspend_type\u001B[49m\u001B[43m,\u001B[49m\u001B[43m \u001B[49m\u001B[43mfrom_this_thread\u001B[49m\u001B[43m)\u001B[49m\n",
      "File \u001B[0;32m/Applications/PyCharm.app/Contents/plugins/python-ce/helpers/pydev/pydevd.py:1235\u001B[0m, in \u001B[0;36mPyDB._do_wait_suspend\u001B[0;34m(self, thread, frame, event, arg, suspend_type, from_this_thread)\u001B[0m\n\u001B[1;32m   1232\u001B[0m             \u001B[38;5;28mself\u001B[39m\u001B[38;5;241m.\u001B[39m_call_mpl_hook()\n\u001B[1;32m   1234\u001B[0m         \u001B[38;5;28mself\u001B[39m\u001B[38;5;241m.\u001B[39mprocess_internal_commands()\n\u001B[0;32m-> 1235\u001B[0m         \u001B[43mtime\u001B[49m\u001B[38;5;241;43m.\u001B[39;49m\u001B[43msleep\u001B[49m\u001B[43m(\u001B[49m\u001B[38;5;241;43m0.01\u001B[39;49m\u001B[43m)\u001B[49m\n\u001B[1;32m   1237\u001B[0m \u001B[38;5;28mself\u001B[39m\u001B[38;5;241m.\u001B[39mcancel_async_evaluation(get_current_thread_id(thread), \u001B[38;5;28mstr\u001B[39m(\u001B[38;5;28mid\u001B[39m(frame)))\n\u001B[1;32m   1239\u001B[0m \u001B[38;5;66;03m# process any stepping instructions\u001B[39;00m\n",
      "\u001B[0;31mKeyboardInterrupt\u001B[0m: "
     ]
    }
   ],
   "execution_count": 10
  },
  {
   "cell_type": "markdown",
   "metadata": {},
   "source": [
    "<br>\n",
    "\n",
    "__[문제 2: 두 번째 사냥]__\n",
    "\n",
    "전사는 강력한 공격을 하기 위해 자신의 힘을 사용합니다. \n",
    "\n",
    "전사의 힘이 60 이상이고 체력이 80 이상인지 확인하세요."
   ]
  },
  {
   "cell_type": "code",
   "metadata": {
    "ExecuteTime": {
     "end_time": "2025-07-23T12:14:53.236797Z",
     "start_time": "2025-07-23T12:14:53.234598Z"
    }
   },
   "source": [
    "attack_available = war_pow >= 60 and war_hp >= 80\n",
    "print(attack_available)"
   ],
   "outputs": [
    {
     "name": "stdout",
     "output_type": "stream",
     "text": [
      "True\n"
     ]
    }
   ],
   "execution_count": 2
  },
  {
   "cell_type": "markdown",
   "metadata": {},
   "source": [
    "<br>\n",
    "\n",
    "__[문제 3: 세 번째 사냥]__\n",
    "\n",
    "도적은 민첩함을 이용해 몬스터를 회피하고 공격합니다. \n",
    "\n",
    "도적의 민첩이 70 이상이거나 힘이 50 이상인지 확인하세요."
   ]
  },
  {
   "cell_type": "code",
   "metadata": {
    "ExecuteTime": {
     "end_time": "2025-07-23T12:14:53.249868Z",
     "start_time": "2025-07-23T12:14:53.247630Z"
    }
   },
   "source": [
    "dodge_available = thief_agi>=70 or thief_pow>=50\n",
    "print(dodge_available) "
   ],
   "outputs": [
    {
     "name": "stdout",
     "output_type": "stream",
     "text": [
      "True\n"
     ]
    }
   ],
   "execution_count": 3
  },
  {
   "cell_type": "markdown",
   "metadata": {},
   "source": [
    "<br>\n",
    "\n",
    "__[문제 4: 네 번째 사냥]__\n",
    "\n",
    "힐러는 파티의 체력을 회복시키기 위해 마법을 사용합니다. \n",
    "\n",
    "힐러의 지능이 60 이상이고, 체력이 50 이상인지 확인하세요."
   ]
  },
  {
   "cell_type": "code",
   "metadata": {
    "ExecuteTime": {
     "end_time": "2025-07-23T12:14:53.263514Z",
     "start_time": "2025-07-23T12:14:53.261244Z"
    }
   },
   "source": [
    "healing_available =heal_int>=60 and heal_hp>-50\n",
    "print(healing_available)"
   ],
   "outputs": [
    {
     "name": "stdout",
     "output_type": "stream",
     "text": [
      "True\n"
     ]
    }
   ],
   "execution_count": 4
  },
  {
   "cell_type": "markdown",
   "metadata": {},
   "source": [
    "<br>\n",
    "\n",
    "__[문제 5: 레벨업]__\n",
    "\n",
    "모든 캐릭터가 사냥을 성공적으로 마쳤습니다. 이제 경험치를 얻어 레벨업을 해야 합니다. \n",
    "\n",
    "\n",
    "각 캐릭터의 경험치가 100 이상인지 print()를 이용해 확인해주세요.\n",
    "\n",
    "<br>\n",
    "\n",
    "경험치는 아래와 같습니다.\n",
    "\n",
    "마법사: 120\n",
    "\n",
    "전사: 150\n",
    "\n",
    "도적: 110\n",
    "\n",
    "힐러: 90\n",
    "\n"
   ]
  },
  {
   "cell_type": "code",
   "metadata": {
    "ExecuteTime": {
     "end_time": "2025-07-23T12:14:53.276613Z",
     "start_time": "2025-07-23T12:14:53.274011Z"
    }
   },
   "source": [
    "mage_exp = 120\n",
    "war_exp = 150\n",
    "thief_exp = 110\n",
    "heal_exp = 90\n",
    "\n",
    "print(\"마법사 레벨업:\", mage_exp>=100)\n",
    "print(\"전사 레벨업:\", war_exp>=100)\n",
    "print(\"도적 레벨업:\", thief_exp>=100)\n",
    "print(\"힐러 레벨업:\", heal_exp>=100)"
   ],
   "outputs": [
    {
     "name": "stdout",
     "output_type": "stream",
     "text": [
      "마법사 레벨업: True\n",
      "전사 레벨업: True\n",
      "도적 레벨업: True\n",
      "힐러 레벨업: False\n"
     ]
    }
   ],
   "execution_count": 5
  }
 ],
 "metadata": {
  "colab": {
   "authorship_tag": "ABX9TyP7YKA5FdtGggYfD74V7SMJ",
   "provenance": []
  },
  "kernelspec": {
   "display_name": "Python 3",
   "name": "python3"
  },
  "language_info": {
   "codemirror_mode": {
    "name": "ipython",
    "version": 3
   },
   "file_extension": ".py",
   "mimetype": "text/x-python",
   "name": "python",
   "nbconvert_exporter": "python",
   "pygments_lexer": "ipython3",
   "version": "3.9.6"
  }
 },
 "nbformat": 4,
 "nbformat_minor": 0
}
