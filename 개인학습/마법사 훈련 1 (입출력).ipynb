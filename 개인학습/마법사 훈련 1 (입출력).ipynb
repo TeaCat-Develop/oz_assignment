{
  "cells": [
    {
      "cell_type": "markdown",
      "metadata": {
        "id": "nUjnk2EVxw_S"
      },
      "source": [
        "# 당신은 마법사로서 처음으로 마법 주문을 배우기 시작했습니다. 🪄\n",
        "### 주문은 텍스트 입력과 출력으로 이루어져 있습니다 !"
      ]
    },
    {
      "cell_type": "markdown",
      "metadata": {
        "id": "nfAYHKPbwvzp"
      },
      "source": [
        "# [문제 1] **\"마법사의 이름 출력\"**\n",
        "### 사용자에게 이름을 입력받아, `환영합니다, [이름]님!` 이라는 문장을 출력하세요!\n",
        "#### 사용할 변수명 : `name`"
      ]
    },
    {
      "cell_type": "code",
      "execution_count": 5,
      "metadata": {
        "colab": {
          "base_uri": "https://localhost:8080/",
          "height": 36
        },
        "id": "770E4WQl5Z1k",
        "outputId": "d98388ba-de46-4847-a81a-43d7a3d53629"
      },
      "outputs": [
        {
          "name": "stdout",
          "output_type": "stream",
          "text": [
            "환영합니다, 오즈 님!\n"
          ]
        }
      ],
      "source": [
        "\"\"\"\n",
        "<예시>\n",
        "\n",
        "입력 : 오즈\n",
        "출력 : 환영합니다, 오즈님!\n",
        "\"\"\"\n",
        "\n",
        "# 하단에 코드를 작성하세요\n",
        "print(f'환영합니다,', input(),'님!')"
      ]
    },
    {
      "cell_type": "markdown",
      "metadata": {
        "id": "pXauCB2dxG1q"
      },
      "source": [
        "# [문제 2] **\"마법 주문을 외치세요\"**\n",
        "### 사용자로부터 마법 주문을 입력받아 `당신의 주문은 [magic_spell] 입니다.` 라고 출력하세요!\n",
        "#### 사용할 변수명 : `magic_spell`"
      ]
    },
    {
      "cell_type": "code",
      "execution_count": 9,
      "metadata": {
        "colab": {
          "base_uri": "https://localhost:8080/",
          "height": 36
        },
        "id": "KhA-vPHN6yW6",
        "outputId": "447f1596-edc1-4c0c-85ea-982ea9980b9d"
      },
      "outputs": [
        {
          "name": "stdout",
          "output_type": "stream",
          "text": [
            "당신의 주문은 input 입니다.\n"
          ]
        }
      ],
      "source": [
        "\"\"\"\n",
        "<예시>\n",
        "\n",
        "입력 : 아브라카다브라\n",
        "출력 : 당신의 주문은 아브라카다브라 입니다.\n",
        "\"\"\"\n",
        "\n",
        "# 하단에 코드를 작성하세요\n",
        "print(f'당신의 주문은',magic_spell:=input(),'입니다.')"
      ]
    },
    {
      "cell_type": "markdown",
      "metadata": {
        "id": "SxT6ionLxHDR"
      },
      "source": [
        "# [문제 3] **\"마법 구슬의 합 계산\"**\n",
        "### 두 개의 숫자를 입력받아 합을 출력하세요.\n",
        "###\b 사용할 변수명 : `bead1`, `bead2`"
      ]
    },
    {
      "cell_type": "code",
      "execution_count": 19,
      "metadata": {
        "colab": {
          "base_uri": "https://localhost:8080/",
          "height": 36
        },
        "id": "DzFXom9U68nb",
        "outputId": "93b53fd5-6315-4022-d398-1f48c39de392"
      },
      "outputs": [
        {
          "name": "stdout",
          "output_type": "stream",
          "text": [
            "3\n"
          ]
        }
      ],
      "source": [
        "\"\"\"\n",
        "<예시>\n",
        "\n",
        "입력 : 3, 5\n",
        "출력 : 8\n",
        "\"\"\"\n",
        "# 하단에 코드를 작성하세요\n",
        "bead1, bead2 = int(input('bead1')),int(input('bead2'))\n",
        "print(bead1+bead2)"
      ]
    },
    {
      "cell_type": "markdown",
      "metadata": {
        "id": "9C-nGvLVxHJ4"
      },
      "source": [
        "# [문제 4] **\"마법사의 나이 계산\"**\n",
        "### 태어난 연도를 입력받아 나이를 계산하고 출력하세요.\n",
        "### 사용할 변수명 : `birth_year`\n",
        "\n"
      ]
    },
    {
      "cell_type": "code",
      "execution_count": 23,
      "metadata": {
        "colab": {
          "base_uri": "https://localhost:8080/",
          "height": 36
        },
        "id": "xJnvJj7N77mX",
        "outputId": "f5b74879-0689-4985-b7f1-b11074d583df"
      },
      "outputs": [
        {
          "name": "stdout",
          "output_type": "stream",
          "text": [
            "당신의 나이는 28 입니다\n"
          ]
        }
      ],
      "source": [
        "\"\"\"\n",
        "<예시>\n",
        "\n",
        "입력 : 2000\n",
        "출력 : 당신의 나이는 24살입니다.\n",
        "\"\"\"\n",
        "\n",
        "# 하단에 코드를 작성하세요.\n",
        "birth_year = int(input('탄생연도'))\n",
        "current_year = int(input('올해연도'))\n",
        "age = current_year - birth_year\n",
        "print('당신의 나이는', current_year-birth_year+1, '입니다') # 한국나이 기준으로 +1."
      ]
    },
    {
      "cell_type": "markdown",
      "metadata": {
        "id": "OVXnngOExHOT"
      },
      "source": [
        "# [문제 5] **\"마법의 거울\"**\n",
        "### 입력받은 문장을 거꾸로 출력하세요.\n",
        "### 사용할 변수명 : `sentence`"
      ]
    },
    {
      "cell_type": "code",
      "execution_count": 67,
      "metadata": {
        "colab": {
          "base_uri": "https://localhost:8080/",
          "height": 36
        },
        "id": "RijrsFJd8PmR",
        "outputId": "28a1456b-8a63-4632-f49f-76a5a9533b22"
      },
      "outputs": [
        {
          "name": "stdout",
          "output_type": "stream",
          "text": [
            "!다니합하축 을학입 교학법마\n",
            "!다니합하축 을학입 교학법마\n",
            "!다니합하축 을학입 교학법마\n",
            "!다니합하축 을학입 교학법마\n"
          ]
        }
      ],
      "source": [
        "\"\"\"\n",
        "<예시>\n",
        "\n",
        "입력 : 마법학교 입학을 축하합니다!\n",
        "출력 : !다니합하축 을합입 교학법마\n",
        "\"\"\"\n",
        "\n",
        "# 하단에 코드를 작성하세요.\n",
        "sentence = '마법학교 입학을 축하합니다!' # '' = str => 문자형은 글자 하나하나를 요소로 취급함.\n",
        "print(sentence[::-1])\n",
        "\n",
        "# [::-1] = [last_index_number-1:-last_index_number-1:-1]\n",
        "print(sentence[len(sentence)-1 : -len(sentence)-1 : -1])\n",
        "print(sentence[14:-16:-1]) \n",
        "\n",
        "# input으로 입력받아 거꾸로 출력해보기\n",
        "# sentence = input()\n",
        "# print(sentence[::-1])\n",
        "\n",
        "# 왈루스 응용하기\n",
        "print(sentence:='마법학교 입학을 축하합니다!'[::-1])"
      ]
    },
    {
      "cell_type": "markdown",
      "metadata": {
        "id": "hHbmuV4dxHSK"
      },
      "source": [
        "# [문제 6] **\"문장의 길이 계산\"**\n",
        "### 문제 5번에서 입력받은 문장의 글자수를 출력하세요.\n"
      ]
    },
    {
      "cell_type": "code",
      "execution_count": 64,
      "metadata": {
        "colab": {
          "base_uri": "https://localhost:8080/",
          "height": 36
        },
        "id": "qmp8PJOw9Apn",
        "outputId": "8a5c8fb0-3f24-4ccf-eac2-81b6571f0454"
      },
      "outputs": [
        {
          "name": "stdout",
          "output_type": "stream",
          "text": [
            "15\n"
          ]
        }
      ],
      "source": [
        "\"\"\"\n",
        "<예시>\n",
        "\n",
        "입력 : 마법학교 입학을 축하합니다!\n",
        "출력 : 15\n",
        "\"\"\"\n",
        "\n",
        "# 하단에 코드를 작성하세요.\n",
        "print(len(sentence))"
      ]
    },
    {
      "cell_type": "markdown",
      "metadata": {
        "id": "gPDy2I47xHVw"
      },
      "source": [
        "# [문제 7] **\"주문 속 단어 수 계산\"**\n",
        "### \b[문제 5,6]에서 입력 받은 문장에서 공백 기준으로 나눠진 단어의 개수를 출력하세요."
      ]
    },
    {
      "cell_type": "code",
      "execution_count": 71,
      "metadata": {
        "colab": {
          "base_uri": "https://localhost:8080/",
          "height": 36
        },
        "id": "Z3TtG3hp9leZ",
        "outputId": "ca4605a4-7dda-4504-afd1-c40f161c4beb"
      },
      "outputs": [
        {
          "name": "stdout",
          "output_type": "stream",
          "text": [
            "3\n"
          ]
        }
      ],
      "source": [
        "\"\"\"\n",
        "<예시>\n",
        "\n",
        "입력 : 마법학교 입학을 축하합니다!\n",
        "출력 : 3\n",
        "\"\"\"\n",
        "\n",
        "# 하단에 코드를 작성하세요.\n",
        "print(sentence.count(' ')+1)"
      ]
    },
    {
      "cell_type": "markdown",
      "metadata": {
        "id": "NQmmwZEhxHZZ"
      },
      "source": [
        "# [문제 8] **\"마법의 숫자 판별\"**\n",
        "### 입력받은 값이 숫자인지 확인하여, 숫자라면 True, 아니라면 False를 출력하세요.\n",
        "### 사용할 변수명 : `magic_num`"
      ]
    },
    {
      "cell_type": "code",
      "execution_count": 75,
      "metadata": {
        "colab": {
          "base_uri": "https://localhost:8080/",
          "height": 36
        },
        "id": "ZnuP_QMC-CJh",
        "outputId": "b15812ab-939e-4d74-87bd-58770903a618"
      },
      "outputs": [
        {
          "name": "stdout",
          "output_type": "stream",
          "text": [
            "False\n"
          ]
        }
      ],
      "source": [
        "\"\"\"\n",
        "<에시>\n",
        "\n",
        "입력 : 55\n",
        "출력 : True\n",
        "\"\"\"\n",
        "\n",
        "# 하단에 코드를 입력하세요\n",
        "magic_num = input('number')\n",
        "print(magic_num.isdigit())\n",
        "\n",
        "# isdigit 까먹었다... 메모해두기"
      ]
    },
    {
      "cell_type": "markdown",
      "metadata": {
        "id": "a7Nd4fmwxHdU"
      },
      "source": [
        "# [문제 9] **\"숲 속의 대소문자\"**\n",
        "### 입력받은 문자를 대문자는 소문자로, 소문자는 대문자로 변환하세요.\n",
        "### 사용할 변수명 : `words`"
      ]
    },
    {
      "cell_type": "code",
      "execution_count": null,
      "metadata": {
        "colab": {
          "base_uri": "https://localhost:8080/",
          "height": 36
        },
        "id": "K87y-XNw_JI9",
        "outputId": "7a1f785c-d9cb-414c-8ae1-1b2f191d5e2b"
      },
      "outputs": [
        {
          "data": {
            "application/vnd.google.colaboratory.intrinsic+json": {
              "type": "string"
            },
            "text/plain": [
              "'\\n<예시>\\n\\n입력 : AbCdEf\\n출력 : aBcDeF\\n'"
            ]
          },
          "execution_count": 9,
          "metadata": {},
          "output_type": "execute_result"
        }
      ],
      "source": [
        "\"\"\"\n",
        "<예시>\n",
        "\n",
        "입력 : AbCdEf\n",
        "출력 : aBcDeF\n",
        "\"\"\"\n",
        "\n",
        "# 하단에 코드를 작성하세요.\n",
        "words = input('대소문자를 섞어 입력해주세요.')"
      ]
    },
    {
      "cell_type": "markdown",
      "metadata": {
        "id": "G7cl8eL2xHkA"
      },
      "source": [
        "# [문제 10] **\"암호화된 문장 출력\"**\n",
        "### 문자 하나를 입력받아, 문자의 아스키 값을 증가시킨 새로운 문장을 출력하세요.\n",
        "### 사용할 변수명 : `word`"
      ]
    },
    {
      "cell_type": "code",
      "execution_count": null,
      "metadata": {
        "colab": {
          "base_uri": "https://localhost:8080/",
          "height": 36
        },
        "id": "jplUQnvN_wPm",
        "outputId": "72badf9b-67ff-429b-a9ba-5592addf35de"
      },
      "outputs": [
        {
          "data": {
            "application/vnd.google.colaboratory.intrinsic+json": {
              "type": "string"
            },
            "text/plain": [
              "'\\n<예시>\\n\\n입력: a\\n출력: b\\n'"
            ]
          },
          "execution_count": 10,
          "metadata": {},
          "output_type": "execute_result"
        }
      ],
      "source": [
        "\"\"\"\n",
        "<예시>\n",
        "\n",
        "입력: a\n",
        "출력: b\n",
        "\"\"\"\n",
        "\n",
        "# 하단에 코드를 작성하세요.\n"
      ]
    },
    {
      "cell_type": "code",
      "execution_count": null,
      "metadata": {
        "id": "lxgYuyMyAMC2"
      },
      "outputs": [],
      "source": []
    }
  ],
  "metadata": {
    "colab": {
      "provenance": []
    },
    "kernelspec": {
      "display_name": "Python 3",
      "name": "python3"
    },
    "language_info": {
      "codemirror_mode": {
        "name": "ipython",
        "version": 3
      },
      "file_extension": ".py",
      "mimetype": "text/x-python",
      "name": "python",
      "nbconvert_exporter": "python",
      "pygments_lexer": "ipython3",
      "version": "3.9.6"
    }
  },
  "nbformat": 4,
  "nbformat_minor": 0
}
